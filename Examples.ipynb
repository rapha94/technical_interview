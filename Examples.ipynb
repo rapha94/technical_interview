{
 "cells": [
  {
   "cell_type": "markdown",
   "metadata": {},
   "source": [
    "# Remove Duplicates"
   ]
  },
  {
   "cell_type": "raw",
   "metadata": {},
   "source": [
    "Write a function to remove duplicate entries in a list of integers. Input is a list of integers. Output is the list without repeated entries.\n",
    "\n",
    "Example. myFunction([-1,5,7,6,5,0,7]) returns [-1,5,7,6,0]."
   ]
  },
  {
   "cell_type": "code",
   "execution_count": null,
   "metadata": {},
   "outputs": [],
   "source": []
  },
  {
   "cell_type": "code",
   "execution_count": 130,
   "metadata": {},
   "outputs": [],
   "source": [
    "def remove_duplicates(x):\n",
    "    y=[]\n",
    "    for i in x:\n",
    "        if i not in y:\n",
    "            y.append(i)\n",
    "    return y\n",
    "\n"
   ]
  },
  {
   "cell_type": "code",
   "execution_count": 137,
   "metadata": {},
   "outputs": [],
   "source": [
    "def funcRemoveDuplicates(listInput):\n",
    "    return set(listInput)"
   ]
  },
  {
   "cell_type": "code",
   "execution_count": 139,
   "metadata": {},
   "outputs": [
    {
     "data": {
      "text/plain": [
       "{-1, 3, 5, 6, 7}"
      ]
     },
     "execution_count": 139,
     "metadata": {},
     "output_type": "execute_result"
    }
   ],
   "source": [
    "funcRemoveDuplicates(x)"
   ]
  },
  {
   "cell_type": "code",
   "execution_count": 133,
   "metadata": {},
   "outputs": [
    {
     "data": {
      "text/plain": [
       "[-1, 3, 5, 6, 7]"
      ]
     },
     "execution_count": 133,
     "metadata": {},
     "output_type": "execute_result"
    }
   ],
   "source": [
    "x = [-1, 3, 5, 5, 6, 3, 7]\n",
    "remove_duplicates(x)"
   ]
  },
  {
   "cell_type": "markdown",
   "metadata": {},
   "source": [
    "# Tuples"
   ]
  },
  {
   "cell_type": "raw",
   "metadata": {},
   "source": [
    "Write a function to produce the subsets of a list of integers containing two elements. Input is a tuple of integers. Output is a tuples of tuples, each containing two elements.\n",
    "\n",
    "Example. myFunction((1,2,3)) returns ((1,2),(1,3),(2,3))."
   ]
  },
  {
   "cell_type": "code",
   "execution_count": null,
   "metadata": {},
   "outputs": [],
   "source": []
  },
  {
   "cell_type": "code",
   "execution_count": 9,
   "metadata": {},
   "outputs": [
    {
     "name": "stdout",
     "output_type": "stream",
     "text": [
      "(1, 2, 3)\n"
     ]
    }
   ],
   "source": [
    "thistuple = (1, 2, 3)\n",
    "print(thistuple)"
   ]
  },
  {
   "cell_type": "code",
   "execution_count": 184,
   "metadata": {},
   "outputs": [],
   "source": [
    "def funcCombinations(listInput, listOutput):\n",
    "    temp1 = listInput.pop()\n",
    "    if (listInput):\n",
    "        listOutput.extend([(temp1,temp2) for temp2 in listInput])\n",
    "        funcCombinations(listInput,listOutput)\n",
    "    return listOutput\n",
    "\n"
   ]
  },
  {
   "cell_type": "code",
   "execution_count": 185,
   "metadata": {},
   "outputs": [
    {
     "data": {
      "text/plain": [
       "[(5, 1),\n",
       " (5, 2),\n",
       " (5, 3),\n",
       " (5, 4),\n",
       " (4, 1),\n",
       " (4, 2),\n",
       " (4, 3),\n",
       " (3, 1),\n",
       " (3, 2),\n",
       " (2, 1)]"
      ]
     },
     "execution_count": 185,
     "metadata": {},
     "output_type": "execute_result"
    }
   ],
   "source": [
    "funcCombinations([1,2,3,4, 5],[])"
   ]
  },
  {
   "cell_type": "code",
   "execution_count": null,
   "metadata": {},
   "outputs": [],
   "source": []
  },
  {
   "cell_type": "code",
   "execution_count": 160,
   "metadata": {},
   "outputs": [],
   "source": []
  },
  {
   "cell_type": "code",
   "execution_count": null,
   "metadata": {},
   "outputs": [],
   "source": []
  },
  {
   "cell_type": "markdown",
   "metadata": {},
   "source": [
    "# Remove space"
   ]
  },
  {
   "cell_type": "raw",
   "metadata": {},
   "source": [
    "Write a function to remove white space from strings. Input is a string. Output is the string with any whitespace removed.\n",
    "\n",
    "Example. myFunction(`` text with spaces '') returns ``textwithspaces''."
   ]
  },
  {
   "cell_type": "code",
   "execution_count": 38,
   "metadata": {},
   "outputs": [],
   "source": [
    "def delete_space(x):\n",
    "    string = x.replace(' ', '')\n",
    "    return string\n"
   ]
  },
  {
   "cell_type": "code",
   "execution_count": 39,
   "metadata": {},
   "outputs": [
    {
     "data": {
      "text/plain": [
       "'textwithspaces'"
      ]
     },
     "execution_count": 39,
     "metadata": {},
     "output_type": "execute_result"
    }
   ],
   "source": [
    "a = \"te xt wi th spa ces\"\n",
    "\n",
    "delete_space(a)"
   ]
  },
  {
   "cell_type": "markdown",
   "metadata": {},
   "source": [
    "# Dictionary"
   ]
  },
  {
   "cell_type": "raw",
   "metadata": {},
   "source": [
    "Write a function to add or update the value of dictionary. The input is a dictionary, key and value. The output is the same dictionary with either a new key and valuing or an updated value to an existing key.\n",
    "\n",
    "Example. Set myDictionary = f'a':1,'b':2g. Calling myFunction(myDictionary,'a',4) would update the 'a' entry in myDictionary to yield f'a':4,'b':2g . Now calling myFunction(myDictionary,'c',10) would change myDictionary to be f'a':4,'b':2,'c':10g."
   ]
  },
  {
   "cell_type": "code",
   "execution_count": null,
   "metadata": {},
   "outputs": [],
   "source": []
  },
  {
   "cell_type": "raw",
   "metadata": {},
   "source": [
    "Methods\n",
    "\n",
    ".values() ==> get values of the dictionary \n",
    "Example: \n",
    "for x in thisdict.values():\n",
    "print(x)\n",
    "        \n",
    "\n",
    ".items() ==> keys & values of the dic\n",
    "Example: \n",
    "for x, y in thisdict.items():\n",
    "print(x, y)\n",
    "\n",
    "\n",
    ".pop() ==> removes the item with the specified key name\n",
    "Example: \n",
    "for x, y in thisdict.items():\n",
    "print(x, y)\n",
    "thisdict.pop(\"key name\")\n",
    "\n",
    ".clear() ==> empties the dictionary\n",
    "Example\n",
    "thisdict.clear(mydict)\n",
    "\n",
    "\n",
    "More info on the dictionaries: https://www.w3schools.com/python/python_dictionaries.asp\n"
   ]
  },
  {
   "cell_type": "code",
   "execution_count": 34,
   "metadata": {},
   "outputs": [
    {
     "data": {
      "text/plain": [
       "{'a': 1, 'b': 2}"
      ]
     },
     "execution_count": 34,
     "metadata": {},
     "output_type": "execute_result"
    }
   ],
   "source": [
    "#dict([('a', 1), ('b', 2)])\n",
    "\n",
    "thisdict = {\"a\": 1,\"b\": 2,}\n",
    "thisdict\n",
    "\n"
   ]
  },
  {
   "cell_type": "code",
   "execution_count": 35,
   "metadata": {},
   "outputs": [],
   "source": [
    "def dictionnary (myDict, key, value):\n",
    "    myDict[key] = value\n",
    "    return myDict"
   ]
  },
  {
   "cell_type": "code",
   "execution_count": 36,
   "metadata": {},
   "outputs": [
    {
     "data": {
      "text/plain": [
       "{'a': '8', 'b': 2}"
      ]
     },
     "execution_count": 36,
     "metadata": {},
     "output_type": "execute_result"
    }
   ],
   "source": [
    "dictionnary(thisdict, \"a\", \"8\" )"
   ]
  },
  {
   "cell_type": "code",
   "execution_count": 38,
   "metadata": {},
   "outputs": [
    {
     "data": {
      "text/plain": [
       "{'a': '8', 'b': 2, 'c': '12'}"
      ]
     },
     "execution_count": 38,
     "metadata": {},
     "output_type": "execute_result"
    }
   ],
   "source": [
    "dictionnary(thisdict, \"c\", \"12\" )"
   ]
  },
  {
   "cell_type": "code",
   "execution_count": null,
   "metadata": {},
   "outputs": [],
   "source": []
  },
  {
   "cell_type": "code",
   "execution_count": 1,
   "metadata": {},
   "outputs": [],
   "source": [
    "class Person:\n",
    "  def __init__(self, name, age):\n",
    "    self.name = name\n",
    "    self.age = age\n",
    "\n"
   ]
  },
  {
   "cell_type": "code",
   "execution_count": 2,
   "metadata": {},
   "outputs": [
    {
     "name": "stdout",
     "output_type": "stream",
     "text": [
      "John\n",
      "36\n"
     ]
    }
   ],
   "source": [
    "p1 = Person(\"John\", 36)\n",
    "\n",
    "print(p1.name)\n",
    "print(p1.age)"
   ]
  },
  {
   "cell_type": "markdown",
   "metadata": {},
   "source": [
    "# Exercice "
   ]
  },
  {
   "cell_type": "markdown",
   "metadata": {},
   "source": [
    "Given an array of integers, return indices of the two numbers such that they add up to a specific target.\n",
    "\n",
    "You may assume that each input would have exactly one solution, and you may not use the same element twice.\n",
    "\n",
    "Example:\n",
    "\n",
    "Given nums = [2, 7, 11, 15], target = 9,\n",
    "\n",
    "Because nums[0] + nums[1] = 2 + 7 = 9,\n",
    "return [0, 1]."
   ]
  },
  {
   "cell_type": "code",
   "execution_count": null,
   "metadata": {},
   "outputs": [],
   "source": []
  },
  {
   "cell_type": "code",
   "execution_count": 3,
   "metadata": {},
   "outputs": [],
   "source": [
    "def twosum(liste_essai, target ):\n",
    "    i=0\n",
    "    j = i+1\n",
    "    y = []\n",
    "\n",
    "    for i in range(0,len(liste_essai)):\n",
    "        for j in range(0, len(liste_essai)):\n",
    "            if liste_essai[j] == target - liste_essai[i]:\n",
    "                if i and j not in y:\n",
    "                    y.append(i)\n",
    "                    y.append(j)\n",
    "    return y\n",
    "    "
   ]
  },
  {
   "cell_type": "code",
   "execution_count": 6,
   "metadata": {},
   "outputs": [],
   "source": [
    "def twosum(liste_essai, target ):\n",
    "    i=0\n",
    "    j = i+1\n",
    "    y = []\n",
    "\n",
    "    for i in range(0,len(liste_essai)):\n",
    "        for j in range(0, len(liste_essai)):\n",
    "            if liste_essai[j] == target - liste_essai[i]:\n",
    "                if i not in y:\n",
    "                    y.append(i)\n",
    "                if j not in y:\n",
    "                    y.append(j)\n",
    "\n",
    "    return y\n",
    "    "
   ]
  },
  {
   "cell_type": "code",
   "execution_count": 7,
   "metadata": {},
   "outputs": [
    {
     "data": {
      "text/plain": [
       "[0, 1, 2]"
      ]
     },
     "execution_count": 7,
     "metadata": {},
     "output_type": "execute_result"
    }
   ],
   "source": [
    "twosum([3, 2, 4], 6)"
   ]
  },
  {
   "cell_type": "markdown",
   "metadata": {},
   "source": [
    "# Exercice REGEX"
   ]
  },
  {
   "cell_type": "markdown",
   "metadata": {},
   "source": [
    "A regular expression is a sequence of characters that de\f",
    "ne a pattern for\n",
    "searching in a string. For example, the regular expression '[0􀀀9][a􀀀z]' corresponds\n",
    "to a two character pattern consisting of a digit (0 to 9) and a lowercase letter (a to z).\n",
    "Write a function that searches for the \f",
    "rst occurence of the pattern in a string. Input\n",
    "is a string. Output is None for no match, or the substring for a match.\n",
    "Example. myFunction('abcXYZ01') returns None. 'abc01XYZ23' returns 'c0'."
   ]
  },
  {
   "cell_type": "code",
   "execution_count": 232,
   "metadata": {},
   "outputs": [],
   "source": [
    "import re\n"
   ]
  },
  {
   "cell_type": "code",
   "execution_count": 263,
   "metadata": {},
   "outputs": [],
   "source": [
    "def myfunction (myString):\n",
    "    pattern = re.findall('[0-9][a-z]',myString)\n",
    "    if pattern != []:\n",
    "        return pattern[0]\n",
    "    else:\n",
    "        return \"none\"\n"
   ]
  },
  {
   "cell_type": "code",
   "execution_count": null,
   "metadata": {},
   "outputs": [],
   "source": []
  },
  {
   "cell_type": "markdown",
   "metadata": {},
   "source": [
    "# AKKA\n"
   ]
  },
  {
   "cell_type": "code",
   "execution_count": 230,
   "metadata": {},
   "outputs": [],
   "source": [
    "line = \"9 0 55 split 12 67 2\"\n",
    "\n",
    "list1, list2 = line.split(\" split \")\n",
    "a = \" \".join(str(e) for e in list1)\n",
    "b = \" \".join(str(e) for e in list2)\n",
    "\n",
    "#c=[a*b for a,b in zip(a,b)]\n",
    "#print (c)"
   ]
  },
  {
   "cell_type": "code",
   "execution_count": 231,
   "metadata": {},
   "outputs": [
    {
     "data": {
      "text/plain": [
       "str"
      ]
     },
     "execution_count": 231,
     "metadata": {},
     "output_type": "execute_result"
    }
   ],
   "source": [
    "type(list2)"
   ]
  },
  {
   "cell_type": "markdown",
   "metadata": {},
   "source": [
    "# Exercice"
   ]
  },
  {
   "cell_type": "markdown",
   "metadata": {},
   "source": [
    "Write a function to find the longest common prefix string amongst an array of strings.\n",
    "\n",
    "If there is no common prefix, return an empty string \"\".\n",
    "\n",
    "Example 1:\n",
    "\n",
    "Input: [\"flower\",\"flow\",\"flight\"]\n",
    "Output: \"fl\"\n",
    "Example 2:\n",
    "\n",
    "Input: [\"dog\",\"racecar\",\"car\"]\n",
    "Output: \"\"\n",
    "Explanation: There is no common prefix among the input strings."
   ]
  },
  {
   "cell_type": "code",
   "execution_count": null,
   "metadata": {},
   "outputs": [],
   "source": []
  },
  {
   "cell_type": "code",
   "execution_count": 127,
   "metadata": {},
   "outputs": [],
   "source": [
    "def longestCommonPrefix(strs):\n",
    "    if not strs: return ''\n",
    "    s1 = min(strs) #premiere lettre de l'alphabet\n",
    "    s2 = max(strs) #derniere lettre de l'alphabet\n",
    "    for i, c in enumerate(s1):\n",
    "        if c != s2[i]:\n",
    "            return s1[:i]\n",
    "    return s1\n",
    "        \n",
    "        \n",
    "    "
   ]
  },
  {
   "cell_type": "code",
   "execution_count": 128,
   "metadata": {},
   "outputs": [
    {
     "data": {
      "text/plain": [
       "'fl'"
      ]
     },
     "execution_count": 128,
     "metadata": {},
     "output_type": "execute_result"
    }
   ],
   "source": [
    "strs = [\"flower\",\"flow\",\"flight\"]\n",
    " \n",
    "longestCommonPrefix(strs)\n",
    "    "
   ]
  },
  {
   "cell_type": "markdown",
   "metadata": {},
   "source": [
    "# Lambda"
   ]
  },
  {
   "cell_type": "raw",
   "metadata": {},
   "source": [
    "Write a function that applies a function to an iterator. Input is a function\n",
    "and an iterator. Output is the iterator obtained by applying the function to each entry.\n",
    "\n",
    "Example. myFunction(lambda x: 2*x, range(3)) returns an iterator such that\n",
    "list(myFunction(lambda x: 2*x, range(3))) returns [0,2,4]."
   ]
  },
  {
   "cell_type": "code",
   "execution_count": 129,
   "metadata": {},
   "outputs": [
    {
     "data": {
      "text/plain": [
       "8"
      ]
     },
     "execution_count": 129,
     "metadata": {},
     "output_type": "execute_result"
    }
   ],
   "source": [
    "g = lambda x: 2*x\n",
    "g(4)\n"
   ]
  },
  {
   "cell_type": "code",
   "execution_count": 64,
   "metadata": {},
   "outputs": [],
   "source": [
    "def myfonction(n):\n",
    "    y = []\n",
    "    for i in range(n):\n",
    "        g = lambda i: 2*i\n",
    "        y.append(g(i))\n",
    "    return y\n"
   ]
  },
  {
   "cell_type": "code",
   "execution_count": 66,
   "metadata": {},
   "outputs": [
    {
     "data": {
      "text/plain": [
       "[0, 2, 4]"
      ]
     },
     "execution_count": 66,
     "metadata": {},
     "output_type": "execute_result"
    }
   ],
   "source": [
    "myfonction(3)"
   ]
  },
  {
   "cell_type": "code",
   "execution_count": 54,
   "metadata": {},
   "outputs": [
    {
     "data": {
      "text/plain": [
       "10"
      ]
     },
     "execution_count": 54,
     "metadata": {},
     "output_type": "execute_result"
    }
   ],
   "source": [
    "b = lambda i: 2*i\n",
    "b(5)"
   ]
  },
  {
   "cell_type": "markdown",
   "metadata": {},
   "source": [
    "# Class"
   ]
  },
  {
   "cell_type": "raw",
   "metadata": {},
   "source": [
    "- Classe : Permet de définir la structure d’un objet qui pourra ensuite être utilisé plusieurs fois avec des options différentes, et dupliqué à loisir par le biais de classes filles. Mot clef : class\n",
    "- Instance : Une classe définie et chargée. Une instance (un objet) est donc utilisable concrètement, alors qu’une classe. Mot clef : new\n",
    "- Objet : Instance d’une classe\n",
    "- Attribut ou Propriété : Variable d’une classe. Mot clefs : var ou const\n",
    "- Méthode : Fonction d’une classe. Mot clefs : function\n",
    "- Constructeur : Méthode d'une classe qui permet d'initialiser et de définir les attributs d'une classe (et parfois des méthodes)."
   ]
  },
  {
   "cell_type": "code",
   "execution_count": 291,
   "metadata": {},
   "outputs": [],
   "source": [
    "class Personne():\n",
    "    def __init__(self, nom, prenom):\n",
    "        self.nom = nom\n",
    "        self.prenom = prenom # Quelle originalité\n",
    "        self.age = 33 # Cela n'engage à rien\n",
    "        self.lieu_residence = \"Paris\"\n",
    "    \n",
    "    def nationalite(self):\n",
    "        self.nationalite = nationalite\n"
   ]
  },
  {
   "cell_type": "code",
   "execution_count": 292,
   "metadata": {},
   "outputs": [],
   "source": [
    "serge = Personne(\"jean\", \"dupont\" )\n",
    "serge.nationalite = \"francaise\""
   ]
  },
  {
   "cell_type": "code",
   "execution_count": 294,
   "metadata": {},
   "outputs": [
    {
     "data": {
      "text/plain": [
       "'francaise'"
      ]
     },
     "execution_count": 294,
     "metadata": {},
     "output_type": "execute_result"
    }
   ],
   "source": [
    "serge.nationalite"
   ]
  },
  {
   "cell_type": "code",
   "execution_count": 330,
   "metadata": {},
   "outputs": [],
   "source": [
    "class tableau():\n",
    "    \n",
    "    def __init__(self):\n",
    "        self.surface = \"\"\n",
    "        \n",
    "    def ecrire(self, message):\n",
    "        if self.surface != \"\":\n",
    "            self.surface += \"\\n\"\n",
    "        self.surface += message\n",
    "        \n",
    "    def afficher(self):\n",
    "        print(self.surface)\n",
    "        \n",
    "    def effacer(self): \n",
    "        self.surface = \"\"\n",
    "\n",
    "        \n"
   ]
  },
  {
   "cell_type": "code",
   "execution_count": 331,
   "metadata": {},
   "outputs": [],
   "source": [
    "tab = tableau()"
   ]
  },
  {
   "cell_type": "code",
   "execution_count": 339,
   "metadata": {},
   "outputs": [],
   "source": [
    "#tab.surface\n",
    "tab.ecrire('comment fdp tu ? ')\n"
   ]
  },
  {
   "cell_type": "code",
   "execution_count": 342,
   "metadata": {},
   "outputs": [
    {
     "name": "stdout",
     "output_type": "stream",
     "text": [
      "\n"
     ]
    }
   ],
   "source": [
    "tab.afficher()"
   ]
  },
  {
   "cell_type": "code",
   "execution_count": 341,
   "metadata": {},
   "outputs": [],
   "source": [
    "tab.effacer()"
   ]
  },
  {
   "cell_type": "code",
   "execution_count": null,
   "metadata": {},
   "outputs": [],
   "source": []
  },
  {
   "cell_type": "raw",
   "metadata": {},
   "source": [
    "An enumerated type (or an enum for short) is a data type relating strings\n",
    "to integers. Think of an enum as a dictionary with strings for keys and integers for\n",
    "values e.g. f'Left':1,'Right':2 g. Create a class Enum such that\n",
    "\u000f The constructor takes a list of strings\n",
    "\u000f The attributes are the strings with values 0,1,2, etc.\n",
    "\u000f The class has a method called cast that inputs an integer 0,1,2, etc. and outputs\n",
    "the corresponding string."
   ]
  },
  {
   "cell_type": "code",
   "execution_count": 414,
   "metadata": {},
   "outputs": [],
   "source": [
    "class Enum:\n",
    "\n",
    "    def __init__(self, value):\n",
    "        #keys is a list of strings\n",
    "        #value is a list of integer\n",
    "        self.value = value\n",
    "        self.Left = 0\n",
    "        self.Right = 1\n",
    "        \n",
    "\n",
    "    def cast(self, x):\n",
    "        self.x = x\n",
    "        print(temp.value[x])\n",
    "        \n",
    "\n",
    "        "
   ]
  },
  {
   "cell_type": "code",
   "execution_count": 415,
   "metadata": {},
   "outputs": [
    {
     "name": "stdout",
     "output_type": "stream",
     "text": [
      "0\n",
      "1\n",
      "Right\n"
     ]
    }
   ],
   "source": [
    "#key = [1, 2]\n",
    "\n",
    "\n",
    "temp = Enum(['Left','Right'])\n",
    "print(temp.Left)\n",
    "print(temp.Right)\n",
    "temp.cast(1)\n"
   ]
  },
  {
   "cell_type": "markdown",
   "metadata": {},
   "source": [
    "# Singleton"
   ]
  },
  {
   "cell_type": "code",
   "execution_count": 427,
   "metadata": {},
   "outputs": [
    {
     "ename": "IndentationError",
     "evalue": "expected an indented block (<ipython-input-427-7523693ee23f>, line 5)",
     "output_type": "error",
     "traceback": [
      "\u001b[0;36m  File \u001b[0;32m\"<ipython-input-427-7523693ee23f>\"\u001b[0;36m, line \u001b[0;32m5\u001b[0m\n\u001b[0;31m    class Outer():\u001b[0m\n\u001b[0m        ^\u001b[0m\n\u001b[0;31mIndentationError\u001b[0m\u001b[0;31m:\u001b[0m expected an indented block\n"
     ]
    }
   ],
   "source": [
    "class Inner():\n",
    "    \n",
    "    \n",
    "\n",
    "class Outer():\n",
    "    "
   ]
  },
  {
   "cell_type": "code",
   "execution_count": null,
   "metadata": {},
   "outputs": [],
   "source": []
  },
  {
   "cell_type": "markdown",
   "metadata": {},
   "source": [
    "# Longest Common Prefix"
   ]
  },
  {
   "cell_type": "code",
   "execution_count": 425,
   "metadata": {},
   "outputs": [],
   "source": [
    "class Solution:\n",
    "    \n",
    "    def __init(self):\n",
    "        return self\n",
    "    \n",
    "    def longestCommonPrefix(self, strs):\n",
    "        \"\"\"\n",
    "        :type strs: List[str]\n",
    "        :rtype: str\n",
    "        \"\"\"\n",
    "        if not strs: return ''\n",
    "        s1 = min(strs)\n",
    "        s2 = max(strs)\n",
    "        for i, c in enumerate(s1):\n",
    "            if c != s2[i]:\n",
    "                return s1[:i]\n",
    "        return s1\n",
    "    \n"
   ]
  },
  {
   "cell_type": "code",
   "execution_count": 426,
   "metadata": {},
   "outputs": [
    {
     "data": {
      "text/plain": [
       "'f'"
      ]
     },
     "execution_count": 426,
     "metadata": {},
     "output_type": "execute_result"
    }
   ],
   "source": [
    "p = Solution()\n",
    "p.longestCommonPrefix(['flo', \"fjie\"])"
   ]
  },
  {
   "cell_type": "code",
   "execution_count": null,
   "metadata": {},
   "outputs": [],
   "source": []
  },
  {
   "cell_type": "code",
   "execution_count": null,
   "metadata": {},
   "outputs": [],
   "source": []
  },
  {
   "cell_type": "code",
   "execution_count": null,
   "metadata": {},
   "outputs": [],
   "source": []
  },
  {
   "cell_type": "code",
   "execution_count": null,
   "metadata": {},
   "outputs": [],
   "source": []
  },
  {
   "cell_type": "code",
   "execution_count": null,
   "metadata": {},
   "outputs": [],
   "source": []
  },
  {
   "cell_type": "code",
   "execution_count": null,
   "metadata": {},
   "outputs": [],
   "source": []
  }
 ],
 "metadata": {
  "kernelspec": {
   "display_name": "Python 3",
   "language": "python",
   "name": "python3"
  },
  "language_info": {
   "codemirror_mode": {
    "name": "ipython",
    "version": 3
   },
   "file_extension": ".py",
   "mimetype": "text/x-python",
   "name": "python",
   "nbconvert_exporter": "python",
   "pygments_lexer": "ipython3",
   "version": "3.6.7"
  }
 },
 "nbformat": 4,
 "nbformat_minor": 2
}
